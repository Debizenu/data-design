{
 "cells": [
  {
   "cell_type": "markdown",
   "metadata": {},
   "source": [
    "### Investigating texts from Project Gutenberg\n",
    "\n",
    "![](images/gutenberg.png)"
   ]
  },
  {
   "cell_type": "code",
   "execution_count": 25,
   "metadata": {},
   "outputs": [],
   "source": [
    "%matplotlib inline\n",
    "import matplotlib.pyplot as plt\n",
    "import requests"
   ]
  },
  {
   "cell_type": "code",
   "execution_count": 2,
   "metadata": {},
   "outputs": [],
   "source": [
    "from bs4 import BeautifulSoup"
   ]
  },
  {
   "cell_type": "code",
   "execution_count": 3,
   "metadata": {},
   "outputs": [],
   "source": [
    "url = \"http://www.gutenberg.org/files/15784/15784-0.txt\""
   ]
  },
  {
   "cell_type": "code",
   "execution_count": 4,
   "metadata": {},
   "outputs": [],
   "source": [
    "response = requests.get(url)"
   ]
  },
  {
   "cell_type": "code",
   "execution_count": 5,
   "metadata": {},
   "outputs": [
    {
     "data": {
      "text/plain": [
       "requests.models.Response"
      ]
     },
     "execution_count": 5,
     "metadata": {},
     "output_type": "execute_result"
    }
   ],
   "source": [
    "type(response)"
   ]
  },
  {
   "cell_type": "code",
   "execution_count": 6,
   "metadata": {},
   "outputs": [],
   "source": [
    "soup_dos = BeautifulSoup(response.content, \"html.parser\")"
   ]
  },
  {
   "cell_type": "code",
   "execution_count": 7,
   "metadata": {},
   "outputs": [
    {
     "data": {
      "text/plain": [
       "1"
      ]
     },
     "execution_count": 7,
     "metadata": {},
     "output_type": "execute_result"
    }
   ],
   "source": [
    "len(soup_dos)"
   ]
  },
  {
   "cell_type": "code",
   "execution_count": 8,
   "metadata": {},
   "outputs": [],
   "source": [
    "dos_text = soup_dos.get_text()"
   ]
  },
  {
   "cell_type": "code",
   "execution_count": 9,
   "metadata": {},
   "outputs": [
    {
     "data": {
      "text/plain": [
       "str"
      ]
     },
     "execution_count": 9,
     "metadata": {},
     "output_type": "execute_result"
    }
   ],
   "source": [
    "type(dos_text)"
   ]
  },
  {
   "cell_type": "code",
   "execution_count": 10,
   "metadata": {},
   "outputs": [
    {
     "data": {
      "text/plain": [
       "550924"
      ]
     },
     "execution_count": 10,
     "metadata": {},
     "output_type": "execute_result"
    }
   ],
   "source": [
    "len(dos_text)"
   ]
  },
  {
   "cell_type": "code",
   "execution_count": 11,
   "metadata": {},
   "outputs": [
    {
     "data": {
      "text/plain": [
       "'The Project Gutenberg EBook of The Chronology of Ancient Kingdoms Amended\\r\\nby Isaac Newton\\r\\n\\r\\nThis e'"
      ]
     },
     "execution_count": 11,
     "metadata": {},
     "output_type": "execute_result"
    }
   ],
   "source": [
    "dos_text[:100]"
   ]
  },
  {
   "cell_type": "markdown",
   "metadata": {},
   "source": [
    "### Analyzing the Text with NLTK\n",
    "\n",
    "The Natural Language Toolkit is a popular Python library for text analysis.  We will use it to split the text into individual words(tokens), and create a plot of the frequency distribution of the tokens.  "
   ]
  },
  {
   "cell_type": "code",
   "execution_count": 15,
   "metadata": {},
   "outputs": [],
   "source": [
    "import nltk\n",
    "from nltk import word_tokenize\n",
    "tokens = word_tokenize(dos_text)"
   ]
  },
  {
   "cell_type": "code",
   "execution_count": 16,
   "metadata": {},
   "outputs": [
    {
     "data": {
      "text/plain": [
       "['The',\n",
       " 'Project',\n",
       " 'Gutenberg',\n",
       " 'EBook',\n",
       " 'of',\n",
       " 'The',\n",
       " 'Chronology',\n",
       " 'of',\n",
       " 'Ancient',\n",
       " 'Kingdoms']"
      ]
     },
     "execution_count": 16,
     "metadata": {},
     "output_type": "execute_result"
    }
   ],
   "source": [
    "tokens[:10]"
   ]
  },
  {
   "cell_type": "code",
   "execution_count": 17,
   "metadata": {},
   "outputs": [],
   "source": [
    "text = nltk.Text(tokens)"
   ]
  },
  {
   "cell_type": "code",
   "execution_count": 18,
   "metadata": {},
   "outputs": [
    {
     "data": {
      "text/plain": [
       "['The',\n",
       " 'Project',\n",
       " 'Gutenberg',\n",
       " 'EBook',\n",
       " 'of',\n",
       " 'The',\n",
       " 'Chronology',\n",
       " 'of',\n",
       " 'Ancient',\n",
       " 'Kingdoms']"
      ]
     },
     "execution_count": 18,
     "metadata": {},
     "output_type": "execute_result"
    }
   ],
   "source": [
    "text[:10]"
   ]
  },
  {
   "cell_type": "code",
   "execution_count": 19,
   "metadata": {},
   "outputs": [],
   "source": [
    "fdist = nltk.FreqDist(text)"
   ]
  },
  {
   "cell_type": "code",
   "execution_count": 20,
   "metadata": {},
   "outputs": [
    {
     "data": {
      "text/plain": [
       "nltk.probability.FreqDist"
      ]
     },
     "execution_count": 20,
     "metadata": {},
     "output_type": "execute_result"
    }
   ],
   "source": [
    "type(fdist)"
   ]
  },
  {
   "cell_type": "code",
   "execution_count": 21,
   "metadata": {},
   "outputs": [
    {
     "data": {
      "text/plain": [
       "[(',', 8704),\n",
       " ('the', 7568),\n",
       " ('and', 5062),\n",
       " ('of', 5017),\n",
       " ('.', 3525),\n",
       " ('in', 1805),\n",
       " ('to', 1508),\n",
       " (';', 1200),\n",
       " (':', 1158),\n",
       " ('[', 1023),\n",
       " (']', 1023),\n",
       " ('that', 1004),\n",
       " ('by', 970),\n",
       " ('was', 941),\n",
       " ('a', 804),\n",
       " ('his', 703),\n",
       " ('with', 612),\n",
       " ('or', 588),\n",
       " ('years', 567),\n",
       " ('from', 531),\n",
       " ('for', 482),\n",
       " ('were', 455),\n",
       " ('their', 405),\n",
       " ('is', 394),\n",
       " ('he', 392),\n",
       " ('this', 389),\n",
       " ('year', 384),\n",
       " ('_Egypt_', 380),\n",
       " ('King', 378),\n",
       " ('which', 373),\n",
       " ('as', 373),\n",
       " ('at', 357),\n",
       " ('after', 348),\n",
       " ('they', 345),\n",
       " ('into', 342),\n",
       " ('it', 341),\n",
       " ('who', 322),\n",
       " ('l.', 313),\n",
       " ('son', 310),\n",
       " ('be', 303),\n",
       " ('Reign', 290),\n",
       " ('before', 284),\n",
       " ('Kings', 265),\n",
       " ('first', 261),\n",
       " ('about', 258),\n",
       " ('had', 250),\n",
       " ('not', 250),\n",
       " ('but', 242),\n",
       " ('The', 236),\n",
       " ('one', 235)]"
      ]
     },
     "execution_count": 21,
     "metadata": {},
     "output_type": "execute_result"
    }
   ],
   "source": [
    "fdist.most_common(50)"
   ]
  },
  {
   "cell_type": "code",
   "execution_count": 22,
   "metadata": {},
   "outputs": [
    {
     "data": {
      "text/plain": [
       "5"
      ]
     },
     "execution_count": 22,
     "metadata": {},
     "output_type": "execute_result"
    }
   ],
   "source": [
    "fdist['blood']"
   ]
  },
  {
   "cell_type": "code",
   "execution_count": 23,
   "metadata": {},
   "outputs": [],
   "source": [
    "fdist = nltk.FreqDist(word.lower() for word in word_tokenize(dos_text))"
   ]
  },
  {
   "cell_type": "code",
   "execution_count": 26,
   "metadata": {},
   "outputs": [
    {
     "data": {
      "image/png": "[encoded data removed]",
      "text/plain": [
       "<matplotlib.figure.Figure at 0x10bba5ba8>"
      ]
     },
     "metadata": {},
     "output_type": "display_data"
    }
   ],
   "source": [
    "plt.figure()\n",
    "fdist.plot(30)"
   ]
  },
  {
   "cell_type": "code",
   "execution_count": 27,
   "metadata": {},
   "outputs": [
    {
     "data": {
      "image/png": "[encoded data removed]",
      "text/plain": [
       "<matplotlib.figure.Figure at 0x1a1b065898>"
      ]
     },
     "metadata": {},
     "output_type": "display_data"
    }
   ],
   "source": [
    "plt.figure()\n",
    "fdist.plot(30, cumulative=True)"
   ]
  },
  {
   "cell_type": "code",
   "execution_count": 28,
   "metadata": {},
   "outputs": [],
   "source": [
    "tagged = nltk.pos_tag(text)"
   ]
  },
  {
   "cell_type": "code",
   "execution_count": 29,
   "metadata": {},
   "outputs": [
    {
     "data": {
      "text/plain": [
       "[('The', 'DT'),\n",
       " ('Project', 'NNP'),\n",
       " ('Gutenberg', 'NNP'),\n",
       " ('EBook', 'NNP'),\n",
       " ('of', 'IN'),\n",
       " ('The', 'DT'),\n",
       " ('Chronology', 'NNP'),\n",
       " ('of', 'IN'),\n",
       " ('Ancient', 'NNP'),\n",
       " ('Kingdoms', 'NNP')]"
      ]
     },
     "execution_count": 29,
     "metadata": {},
     "output_type": "execute_result"
    }
   ],
   "source": [
    "tagged[:10]"
   ]
  },
  {
   "cell_type": "code",
   "execution_count": 32,
   "metadata": {},
   "outputs": [
    {
     "name": "stdout",
     "output_type": "stream",
     "text": [
      "and king into reign city or in the of to first people empire temple\n",
      "history kings year reigns place expedition\n"
     ]
    }
   ],
   "source": [
    "text.similar(\"god\")"
   ]
  },
  {
   "cell_type": "code",
   "execution_count": 37,
   "metadata": {},
   "outputs": [
    {
     "name": "stdout",
     "output_type": "stream",
     "text": [
      "now_of only_of the_and\n"
     ]
    }
   ],
   "source": [
    "text.common_contexts([\"king\", \"lord\"])"
   ]
  },
  {
   "cell_type": "code",
   "execution_count": 40,
   "metadata": {},
   "outputs": [
    {
     "data": {
      "image/png": "[encoded data removed]",
      "text/plain": [
       "<matplotlib.figure.Figure at 0x1a2007fbe0>"
      ]
     },
     "metadata": {},
     "output_type": "display_data"
    }
   ],
   "source": [
    "text.dispersion_plot(tokens[500:510])"
   ]
  },
  {
   "cell_type": "code",
   "execution_count": 43,
   "metadata": {},
   "outputs": [
    {
     "data": {
      "text/plain": [
       "106732"
      ]
     },
     "execution_count": 43,
     "metadata": {},
     "output_type": "execute_result"
    }
   ],
   "source": [
    "len(text)"
   ]
  },
  {
   "cell_type": "code",
   "execution_count": 44,
   "metadata": {},
   "outputs": [
    {
     "data": {
      "text/plain": [
       "['!',\n",
       " '#',\n",
       " '$',\n",
       " '%',\n",
       " '&',\n",
       " \"'\",\n",
       " \"''\",\n",
       " \"'AS-IS\",\n",
       " \"'Till\",\n",
       " \"'d\",\n",
       " \"'s\",\n",
       " \"'till\",\n",
       " '(',\n",
       " ')',\n",
       " '*',\n",
       " '***',\n",
       " '*****',\n",
       " ',',\n",
       " '-',\n",
       " '--',\n",
       " '.',\n",
       " '//gutenberg.net/license',\n",
       " '//pglaf.org',\n",
       " '//pglaf.org/donate',\n",
       " '//pglaf.org/fundraising',\n",
       " '//www.gutenberg.net',\n",
       " '//www.gutenberg.org/1/5/7/8/15784/',\n",
       " '//www.pglaf.org',\n",
       " '00',\n",
       " '1',\n",
       " '1.',\n",
       " '1.A',\n",
       " '1.B',\n",
       " '1.C',\n",
       " '1.D',\n",
       " '1.E',\n",
       " '1.E.1',\n",
       " '1.E.2',\n",
       " '1.E.3',\n",
       " '1.E.4',\n",
       " '1.E.5',\n",
       " '1.E.6',\n",
       " '1.E.7',\n",
       " '1.E.8',\n",
       " '1.E.9',\n",
       " '1.F',\n",
       " '1.F.1',\n",
       " '1.F.2',\n",
       " '1.F.3',\n",
       " '1.F.4',\n",
       " '1.F.5',\n",
       " '1.F.6',\n",
       " '10',\n",
       " '10.',\n",
       " '100',\n",
       " '10000',\n",
       " '1002',\n",
       " '1005',\n",
       " '1006',\n",
       " '1007',\n",
       " '1008',\n",
       " '101',\n",
       " '1010',\n",
       " '1014',\n",
       " '1015',\n",
       " '1017',\n",
       " '1019',\n",
       " '102',\n",
       " '1020',\n",
       " '1028',\n",
       " '103',\n",
       " '1030',\n",
       " '1034',\n",
       " '1035',\n",
       " '1039',\n",
       " '104',\n",
       " '1043',\n",
       " '1045',\n",
       " '1046',\n",
       " '1047',\n",
       " '1048',\n",
       " '105',\n",
       " '1052',\n",
       " '1053',\n",
       " '1059',\n",
       " '105th',\n",
       " '106',\n",
       " '1060',\n",
       " '1069',\n",
       " '107',\n",
       " '1070',\n",
       " '108',\n",
       " '1080',\n",
       " '1085',\n",
       " '109',\n",
       " '1090',\n",
       " '11',\n",
       " '11.',\n",
       " '110',\n",
       " '1100',\n",
       " '11000',\n",
       " '111',\n",
       " '112',\n",
       " '1125',\n",
       " '113',\n",
       " '11340',\n",
       " '114',\n",
       " '115',\n",
       " '116',\n",
       " '117',\n",
       " '118',\n",
       " '119',\n",
       " '11th',\n",
       " '11⅔',\n",
       " '12',\n",
       " '12.',\n",
       " '120',\n",
       " '12000',\n",
       " '120000',\n",
       " '121',\n",
       " '122',\n",
       " '1224',\n",
       " '123',\n",
       " '1236',\n",
       " '124',\n",
       " '125',\n",
       " '126',\n",
       " '127',\n",
       " '128',\n",
       " '129',\n",
       " '12th',\n",
       " '13',\n",
       " '13.',\n",
       " '130',\n",
       " '131',\n",
       " '132',\n",
       " '133',\n",
       " '134',\n",
       " '1340',\n",
       " '135',\n",
       " '136',\n",
       " '1360',\n",
       " '137',\n",
       " '138',\n",
       " '139',\n",
       " '13th',\n",
       " '13°',\n",
       " '14',\n",
       " '14.',\n",
       " '140',\n",
       " '141',\n",
       " '142',\n",
       " '143',\n",
       " '144',\n",
       " '145',\n",
       " '146',\n",
       " '146½',\n",
       " '147',\n",
       " '148',\n",
       " '149',\n",
       " '14th',\n",
       " '15',\n",
       " '15.',\n",
       " '150',\n",
       " '1500',\n",
       " '15000',\n",
       " '150th',\n",
       " '151',\n",
       " '152',\n",
       " '153',\n",
       " '154',\n",
       " '155',\n",
       " '156',\n",
       " '157',\n",
       " '15784',\n",
       " '15784-0.txt',\n",
       " '15784-0.zip',\n",
       " '158',\n",
       " '159',\n",
       " '15th',\n",
       " '15¼',\n",
       " '16',\n",
       " '16.',\n",
       " '160',\n",
       " '160th',\n",
       " '161',\n",
       " '162',\n",
       " '163',\n",
       " '164',\n",
       " '1643',\n",
       " '165',\n",
       " '166',\n",
       " '167',\n",
       " '168',\n",
       " '1689',\n",
       " '169',\n",
       " '1690',\n",
       " '16th',\n",
       " '17',\n",
       " '17.',\n",
       " '170',\n",
       " '17000',\n",
       " '171',\n",
       " '172',\n",
       " '173',\n",
       " '174',\n",
       " '175',\n",
       " '176',\n",
       " '176th',\n",
       " '177',\n",
       " '178',\n",
       " '179',\n",
       " '17th',\n",
       " '17¼',\n",
       " '18',\n",
       " '18.',\n",
       " '180',\n",
       " '180000',\n",
       " '181',\n",
       " '182',\n",
       " '183',\n",
       " '184',\n",
       " '185',\n",
       " '185000',\n",
       " '186',\n",
       " '187',\n",
       " '187½',\n",
       " '188',\n",
       " '189',\n",
       " '18th',\n",
       " '18¾',\n",
       " '19',\n",
       " '19.',\n",
       " '19.-22',\n",
       " '190',\n",
       " '1903',\n",
       " '191',\n",
       " '192',\n",
       " '193',\n",
       " '194',\n",
       " '195',\n",
       " '196',\n",
       " '197',\n",
       " '198',\n",
       " '199',\n",
       " '19th',\n",
       " '19°',\n",
       " '19½',\n",
       " '2',\n",
       " '2.',\n",
       " '20',\n",
       " '20.',\n",
       " '200',\n",
       " '2001',\n",
       " '2005',\n",
       " '201',\n",
       " '202',\n",
       " '203',\n",
       " '204',\n",
       " '205',\n",
       " '206',\n",
       " '207',\n",
       " '208',\n",
       " '209',\n",
       " '20th',\n",
       " '21',\n",
       " '21.',\n",
       " '210',\n",
       " '211',\n",
       " '212',\n",
       " '213',\n",
       " '214',\n",
       " '215',\n",
       " '216',\n",
       " '217',\n",
       " '218',\n",
       " '219',\n",
       " '21st',\n",
       " '21½',\n",
       " '22',\n",
       " '22.',\n",
       " '220',\n",
       " '221',\n",
       " '222',\n",
       " '223',\n",
       " '224',\n",
       " '224th',\n",
       " '225',\n",
       " '226',\n",
       " '227',\n",
       " '228',\n",
       " '229',\n",
       " '22d',\n",
       " '22°',\n",
       " '23',\n",
       " '23.',\n",
       " '230',\n",
       " '231',\n",
       " '232',\n",
       " '233',\n",
       " '234',\n",
       " '235',\n",
       " '236',\n",
       " '237',\n",
       " '238',\n",
       " '239',\n",
       " '23d',\n",
       " '23°',\n",
       " '24',\n",
       " '24.',\n",
       " '240',\n",
       " '241',\n",
       " '242',\n",
       " '243',\n",
       " '244',\n",
       " '245',\n",
       " '246',\n",
       " '247',\n",
       " '248',\n",
       " '249',\n",
       " '24th',\n",
       " '24°',\n",
       " '25',\n",
       " '250',\n",
       " '251',\n",
       " '252',\n",
       " '253',\n",
       " '254',\n",
       " '255',\n",
       " '256',\n",
       " '257',\n",
       " '258',\n",
       " '259',\n",
       " '25th',\n",
       " '25°',\n",
       " '26',\n",
       " '26.',\n",
       " '260',\n",
       " '261',\n",
       " '262',\n",
       " '2627',\n",
       " '263',\n",
       " '264',\n",
       " '2645',\n",
       " '265',\n",
       " '266',\n",
       " '267',\n",
       " '268',\n",
       " '269',\n",
       " '26th',\n",
       " '27',\n",
       " '27.',\n",
       " '270',\n",
       " '271',\n",
       " '272',\n",
       " '273',\n",
       " '274',\n",
       " '275',\n",
       " '276',\n",
       " '277',\n",
       " '278',\n",
       " '279',\n",
       " '27th',\n",
       " '28',\n",
       " '28.',\n",
       " '280',\n",
       " '281',\n",
       " '282',\n",
       " '283',\n",
       " '284',\n",
       " '285',\n",
       " '286',\n",
       " '287',\n",
       " '288',\n",
       " '289',\n",
       " '28th',\n",
       " '28°',\n",
       " '29',\n",
       " '29.',\n",
       " '290',\n",
       " '291',\n",
       " '292',\n",
       " '293',\n",
       " '294',\n",
       " '295',\n",
       " '296',\n",
       " '297',\n",
       " '298',\n",
       " '299',\n",
       " '29th',\n",
       " '2°',\n",
       " '3',\n",
       " '3.',\n",
       " '30',\n",
       " '300',\n",
       " '3000',\n",
       " '30000',\n",
       " '301',\n",
       " '302',\n",
       " '303',\n",
       " '304',\n",
       " '305',\n",
       " '306',\n",
       " '307',\n",
       " '308',\n",
       " '309',\n",
       " '30th',\n",
       " '31',\n",
       " '310',\n",
       " '311',\n",
       " '312',\n",
       " '313',\n",
       " '314',\n",
       " '315',\n",
       " '316',\n",
       " '316th',\n",
       " '317',\n",
       " '318',\n",
       " '319',\n",
       " '32',\n",
       " '32.',\n",
       " '320',\n",
       " '321',\n",
       " '322',\n",
       " '323',\n",
       " '324',\n",
       " '325',\n",
       " '326',\n",
       " '327',\n",
       " '328',\n",
       " '329',\n",
       " '32d',\n",
       " '33',\n",
       " '33.',\n",
       " '330',\n",
       " '331',\n",
       " '332',\n",
       " '333',\n",
       " '334',\n",
       " '335',\n",
       " '336',\n",
       " '337',\n",
       " '338',\n",
       " '339',\n",
       " '33d',\n",
       " '34',\n",
       " '34.',\n",
       " '340',\n",
       " '341',\n",
       " '342',\n",
       " '343',\n",
       " '344',\n",
       " '345',\n",
       " '345._',\n",
       " '346',\n",
       " '346._',\n",
       " '347',\n",
       " '348',\n",
       " '349',\n",
       " '34°',\n",
       " '35',\n",
       " '350',\n",
       " '351',\n",
       " '352',\n",
       " '353',\n",
       " '354',\n",
       " '355',\n",
       " '356',\n",
       " '357',\n",
       " '358',\n",
       " '359',\n",
       " '35th',\n",
       " '36',\n",
       " '36.',\n",
       " '360',\n",
       " '361',\n",
       " '362',\n",
       " '363',\n",
       " '364',\n",
       " '365',\n",
       " '366',\n",
       " '367',\n",
       " '368',\n",
       " '369',\n",
       " '36°',\n",
       " '36½',\n",
       " '37',\n",
       " '370',\n",
       " '371',\n",
       " '372',\n",
       " '373',\n",
       " '374',\n",
       " '375',\n",
       " '376',\n",
       " '377',\n",
       " '378',\n",
       " '379',\n",
       " '37th',\n",
       " '37°',\n",
       " '37½',\n",
       " '38',\n",
       " '380',\n",
       " '381',\n",
       " '382',\n",
       " '383',\n",
       " '3830',\n",
       " '384',\n",
       " '385',\n",
       " '386',\n",
       " '387',\n",
       " '388',\n",
       " '389',\n",
       " '38th',\n",
       " '39',\n",
       " '390',\n",
       " '391',\n",
       " '392',\n",
       " '393',\n",
       " '394',\n",
       " '395',\n",
       " '396',\n",
       " '397',\n",
       " '398',\n",
       " '399',\n",
       " '3d',\n",
       " '3°',\n",
       " '4',\n",
       " '4.',\n",
       " '40',\n",
       " '40.',\n",
       " '400',\n",
       " '401',\n",
       " '402',\n",
       " '403',\n",
       " '404',\n",
       " '405',\n",
       " '406',\n",
       " '407',\n",
       " '408',\n",
       " '409',\n",
       " '40th',\n",
       " '41',\n",
       " '41.',\n",
       " '410',\n",
       " '411',\n",
       " '412',\n",
       " '413',\n",
       " '414',\n",
       " '415',\n",
       " '416',\n",
       " '417',\n",
       " '418',\n",
       " '419',\n",
       " '41st',\n",
       " '42',\n",
       " '420',\n",
       " '421',\n",
       " '422',\n",
       " '423',\n",
       " '424',\n",
       " '425',\n",
       " '426',\n",
       " '427',\n",
       " '428',\n",
       " '429',\n",
       " '43',\n",
       " '430',\n",
       " '431',\n",
       " '432',\n",
       " '433',\n",
       " '434',\n",
       " '435',\n",
       " '436',\n",
       " '437',\n",
       " '438',\n",
       " '439',\n",
       " '43d',\n",
       " '44',\n",
       " '440',\n",
       " '441',\n",
       " '442',\n",
       " '443',\n",
       " '444',\n",
       " '445',\n",
       " '446',\n",
       " '447',\n",
       " '448',\n",
       " '449',\n",
       " '44th',\n",
       " '45',\n",
       " '450',\n",
       " '451',\n",
       " '452',\n",
       " '453',\n",
       " '454',\n",
       " '455',\n",
       " '4557',\n",
       " '456',\n",
       " '4568',\n",
       " '457',\n",
       " '458',\n",
       " '459',\n",
       " '46',\n",
       " '460',\n",
       " '461',\n",
       " '462',\n",
       " '463',\n",
       " '464',\n",
       " '465',\n",
       " '466',\n",
       " '467',\n",
       " '468',\n",
       " '469',\n",
       " '46th',\n",
       " '47',\n",
       " '47.',\n",
       " '470',\n",
       " '471',\n",
       " '472',\n",
       " '473',\n",
       " '473000',\n",
       " '474',\n",
       " '475',\n",
       " '476',\n",
       " '477',\n",
       " '478',\n",
       " '479',\n",
       " '47th',\n",
       " '48',\n",
       " '480',\n",
       " '481',\n",
       " '482',\n",
       " '483',\n",
       " '484',\n",
       " '485',\n",
       " '486',\n",
       " '48th',\n",
       " '49',\n",
       " '491',\n",
       " '49th',\n",
       " '49⅓',\n",
       " '4th',\n",
       " '4°',\n",
       " '4½',\n",
       " '5',\n",
       " '5,000',\n",
       " '5.',\n",
       " '50',\n",
       " '500',\n",
       " '501',\n",
       " '504',\n",
       " '507',\n",
       " '508',\n",
       " '50th',\n",
       " '51',\n",
       " '513',\n",
       " '515',\n",
       " '52',\n",
       " '52.',\n",
       " '520',\n",
       " '521',\n",
       " '528',\n",
       " '529',\n",
       " '53',\n",
       " '530',\n",
       " '536',\n",
       " '538',\n",
       " '54',\n",
       " '544',\n",
       " '549',\n",
       " '55',\n",
       " '550',\n",
       " '555',\n",
       " '557',\n",
       " '56',\n",
       " '56.',\n",
       " '562',\n",
       " '568',\n",
       " '569',\n",
       " '57',\n",
       " '57.',\n",
       " '572',\n",
       " '58',\n",
       " '580',\n",
       " '580000',\n",
       " '584',\n",
       " '585',\n",
       " '586',\n",
       " '588',\n",
       " '59',\n",
       " '590',\n",
       " '596',\n",
       " '596-1887',\n",
       " '598',\n",
       " '599',\n",
       " '5th',\n",
       " '5°',\n",
       " '6',\n",
       " '6.',\n",
       " '60',\n",
       " '600',\n",
       " '6000',\n",
       " '601',\n",
       " '602',\n",
       " '604',\n",
       " '605',\n",
       " '606',\n",
       " '607',\n",
       " '609',\n",
       " '61',\n",
       " '610',\n",
       " '611',\n",
       " '614',\n",
       " '617',\n",
       " '618',\n",
       " '62',\n",
       " '621',\n",
       " '623',\n",
       " '625',\n",
       " '627',\n",
       " '63',\n",
       " '63.',\n",
       " '633',\n",
       " '635',\n",
       " '636',\n",
       " '64',\n",
       " '64-6221541',\n",
       " '640',\n",
       " '647',\n",
       " '648',\n",
       " '65',\n",
       " '652',\n",
       " '655',\n",
       " '657',\n",
       " '658',\n",
       " '65th',\n",
       " '66',\n",
       " '661',\n",
       " '668',\n",
       " '66½',\n",
       " '67',\n",
       " '67.',\n",
       " '671',\n",
       " '673',\n",
       " '676',\n",
       " '678',\n",
       " '68',\n",
       " '680',\n",
       " '681',\n",
       " '682',\n",
       " '684',\n",
       " '687',\n",
       " '68th',\n",
       " '69',\n",
       " '69.',\n",
       " '697',\n",
       " '698',\n",
       " '6°',\n",
       " '6½',\n",
       " '7',\n",
       " '7.',\n",
       " '70',\n",
       " '700000',\n",
       " '701',\n",
       " '705',\n",
       " '708',\n",
       " '71',\n",
       " '710',\n",
       " '711',\n",
       " '714',\n",
       " '717',\n",
       " '719',\n",
       " '72',\n",
       " '721',\n",
       " '729',\n",
       " '72d',\n",
       " '73',\n",
       " '730',\n",
       " '74',\n",
       " '740',\n",
       " '745',\n",
       " '747',\n",
       " '74th',\n",
       " '75',\n",
       " '751',\n",
       " '755',\n",
       " '75th',\n",
       " '76',\n",
       " '760',\n",
       " '761',\n",
       " '763',\n",
       " '76th',\n",
       " '77',\n",
       " '772',\n",
       " '773',\n",
       " '776',\n",
       " '77th',\n",
       " '78',\n",
       " '788',\n",
       " '78th',\n",
       " '79',\n",
       " '790',\n",
       " '792',\n",
       " '794',\n",
       " '7th',\n",
       " '7°',\n",
       " '8',\n",
       " '8.',\n",
       " '80',\n",
       " '801',\n",
       " '804',\n",
       " '808',\n",
       " '809',\n",
       " '81',\n",
       " '816',\n",
       " '817',\n",
       " '82',\n",
       " '820',\n",
       " '824',\n",
       " '825',\n",
       " '828',\n",
       " '83',\n",
       " '838',\n",
       " '83d',\n",
       " '84',\n",
       " '84116',\n",
       " '844',\n",
       " '85',\n",
       " '850',\n",
       " '852',\n",
       " '86',\n",
       " '860',\n",
       " '87',\n",
       " '870',\n",
       " '88',\n",
       " '88.',\n",
       " '883',\n",
       " '884',\n",
       " '887',\n",
       " '89',\n",
       " '895',\n",
       " '896',\n",
       " '8th',\n",
       " '8°',\n",
       " '9',\n",
       " '9.',\n",
       " '90',\n",
       " '9000',\n",
       " '901',\n",
       " '903',\n",
       " '904',\n",
       " '909',\n",
       " '91',\n",
       " '912',\n",
       " '918',\n",
       " '919',\n",
       " '92',\n",
       " '924',\n",
       " '925',\n",
       " '927',\n",
       " '928',\n",
       " '93',\n",
       " '930',\n",
       " '934',\n",
       " '936',\n",
       " '937',\n",
       " '938',\n",
       " '939',\n",
       " '94',\n",
       " '940',\n",
       " '942',\n",
       " '943',\n",
       " '944',\n",
       " '945',\n",
       " '946',\n",
       " '947',\n",
       " '95',\n",
       " '956',\n",
       " '958',\n",
       " '96',\n",
       " '960',\n",
       " '962',\n",
       " '963',\n",
       " '964',\n",
       " '965',\n",
       " '966',\n",
       " '967',\n",
       " '968',\n",
       " '97',\n",
       " '971',\n",
       " '974',\n",
       " '978',\n",
       " '979',\n",
       " '98',\n",
       " '980',\n",
       " '983',\n",
       " '987',\n",
       " '988',\n",
       " '989',\n",
       " '99',\n",
       " '990',\n",
       " '993',\n",
       " '994',\n",
       " '99712.',\n",
       " '9th',\n",
       " '9°',\n",
       " ':',\n",
       " ';',\n",
       " '>',\n",
       " '?',\n",
       " '@',\n",
       " 'A',\n",
       " 'ABCD',\n",
       " 'ABEF',\n",
       " 'ACTUAL',\n",
       " 'AGREE',\n",
       " 'AGREEMENT',\n",
       " 'AK',\n",
       " 'AMENDED',\n",
       " 'ANCIENT',\n",
       " 'AND',\n",
       " 'ANY',\n",
       " 'ANYTHING',\n",
       " 'ASCII',\n",
       " 'Ab',\n",
       " 'Abhorrence',\n",
       " 'Aborigines',\n",
       " 'About',\n",
       " 'Abstinentia',\n",
       " 'Abyden',\n",
       " 'Ac',\n",
       " 'Acra_',\n",
       " 'Acroasis_',\n",
       " 'Additional',\n",
       " 'Administration',\n",
       " 'Admiral',\n",
       " 'Admon',\n",
       " 'Adon_',\n",
       " 'Advertisement',\n",
       " 'Affection',\n",
       " 'Africa',\n",
       " 'Africam',\n",
       " 'After',\n",
       " 'Agatharc',\n",
       " 'Age',\n",
       " 'Ages',\n",
       " 'Agriculture',\n",
       " 'Al',\n",
       " 'Alcib',\n",
       " 'Alexander',\n",
       " 'Alexandrinus_',\n",
       " 'All',\n",
       " 'Altar',\n",
       " 'Altar._',\n",
       " 'Altars',\n",
       " 'Altitudes',\n",
       " 'Amazons_',\n",
       " 'Ambassador',\n",
       " 'Amended',\n",
       " 'Ammian',\n",
       " 'Ammon._',\n",
       " 'Ammon_',\n",
       " 'Among',\n",
       " 'Amos',\n",
       " 'Anaphe',\n",
       " 'Ancient',\n",
       " 'Ancients',\n",
       " 'And',\n",
       " 'Angel',\n",
       " 'Angle',\n",
       " 'Angles',\n",
       " 'Annal',\n",
       " 'Annals',\n",
       " 'Another',\n",
       " 'Ant',\n",
       " 'Antient',\n",
       " 'Antients',\n",
       " 'Antiq',\n",
       " 'Antiq._',\n",
       " 'Antiquities',\n",
       " 'Antiquity',\n",
       " 'Antistitem_',\n",
       " 'Any',\n",
       " 'Ap',\n",
       " 'Apion',\n",
       " 'Apollod',\n",
       " 'Apollodor',\n",
       " 'Apollon',\n",
       " 'Apollonii',\n",
       " 'Apologet',\n",
       " 'Apostles',\n",
       " 'Apparitionem',\n",
       " 'Appion',\n",
       " 'Apud',\n",
       " 'Aquarius',\n",
       " 'Arabumque',\n",
       " 'Archer',\n",
       " 'Architecture',\n",
       " 'Archive',\n",
       " 'Archives',\n",
       " ...]"
      ]
     },
     "execution_count": 44,
     "metadata": {},
     "output_type": "execute_result"
    }
   ],
   "source": [
    "sorted(set(text))"
   ]
  },
  {
   "cell_type": "markdown",
   "metadata": {},
   "source": [
    "### Lexical Richness of Text"
   ]
  },
  {
   "cell_type": "code",
   "execution_count": 45,
   "metadata": {},
   "outputs": [
    {
     "data": {
      "text/plain": [
       "0.0981149046209197"
      ]
     },
     "execution_count": 45,
     "metadata": {},
     "output_type": "execute_result"
    }
   ],
   "source": [
    "len(set(text))/len(text)"
   ]
  },
  {
   "cell_type": "code",
   "execution_count": 48,
   "metadata": {},
   "outputs": [
    {
     "data": {
      "text/plain": [
       "265"
      ]
     },
     "execution_count": 48,
     "metadata": {},
     "output_type": "execute_result"
    }
   ],
   "source": [
    "text.count(\"Kings\")"
   ]
  },
  {
   "cell_type": "code",
   "execution_count": 49,
   "metadata": {},
   "outputs": [
    {
     "data": {
      "text/plain": [
       "0.24828542517707905"
      ]
     },
     "execution_count": 49,
     "metadata": {},
     "output_type": "execute_result"
    }
   ],
   "source": [
    "100*text.count(\"Kings\")/len(text)"
   ]
  },
  {
   "cell_type": "markdown",
   "metadata": {},
   "source": [
    "### Stopwords"
   ]
  },
  {
   "cell_type": "code",
   "execution_count": 69,
   "metadata": {},
   "outputs": [],
   "source": [
    "from nltk.corpus import stopwords"
   ]
  },
  {
   "cell_type": "code",
   "execution_count": 70,
   "metadata": {},
   "outputs": [
    {
     "data": {
      "text/plain": [
       "{'a',\n",
       " 'about',\n",
       " 'above',\n",
       " 'after',\n",
       " 'again',\n",
       " 'against',\n",
       " 'ain',\n",
       " 'all',\n",
       " 'am',\n",
       " 'an',\n",
       " 'and',\n",
       " 'any',\n",
       " 'are',\n",
       " 'aren',\n",
       " 'as',\n",
       " 'at',\n",
       " 'be',\n",
       " 'because',\n",
       " 'been',\n",
       " 'before',\n",
       " 'being',\n",
       " 'below',\n",
       " 'between',\n",
       " 'both',\n",
       " 'but',\n",
       " 'by',\n",
       " 'can',\n",
       " 'couldn',\n",
       " 'd',\n",
       " 'did',\n",
       " 'didn',\n",
       " 'do',\n",
       " 'does',\n",
       " 'doesn',\n",
       " 'doing',\n",
       " 'don',\n",
       " 'down',\n",
       " 'during',\n",
       " 'each',\n",
       " 'few',\n",
       " 'for',\n",
       " 'from',\n",
       " 'further',\n",
       " 'had',\n",
       " 'hadn',\n",
       " 'has',\n",
       " 'hasn',\n",
       " 'have',\n",
       " 'haven',\n",
       " 'having',\n",
       " 'he',\n",
       " 'her',\n",
       " 'here',\n",
       " 'hers',\n",
       " 'herself',\n",
       " 'him',\n",
       " 'himself',\n",
       " 'his',\n",
       " 'how',\n",
       " 'i',\n",
       " 'if',\n",
       " 'in',\n",
       " 'into',\n",
       " 'is',\n",
       " 'isn',\n",
       " 'it',\n",
       " 'its',\n",
       " 'itself',\n",
       " 'just',\n",
       " 'll',\n",
       " 'm',\n",
       " 'ma',\n",
       " 'me',\n",
       " 'mightn',\n",
       " 'more',\n",
       " 'most',\n",
       " 'mustn',\n",
       " 'my',\n",
       " 'myself',\n",
       " 'needn',\n",
       " 'no',\n",
       " 'nor',\n",
       " 'not',\n",
       " 'now',\n",
       " 'o',\n",
       " 'of',\n",
       " 'off',\n",
       " 'on',\n",
       " 'once',\n",
       " 'only',\n",
       " 'or',\n",
       " 'other',\n",
       " 'our',\n",
       " 'ours',\n",
       " 'ourselves',\n",
       " 'out',\n",
       " 'over',\n",
       " 'own',\n",
       " 're',\n",
       " 's',\n",
       " 'same',\n",
       " 'shan',\n",
       " 'she',\n",
       " 'should',\n",
       " 'shouldn',\n",
       " 'so',\n",
       " 'some',\n",
       " 'such',\n",
       " 't',\n",
       " 'than',\n",
       " 'that',\n",
       " 'the',\n",
       " 'their',\n",
       " 'theirs',\n",
       " 'them',\n",
       " 'themselves',\n",
       " 'then',\n",
       " 'there',\n",
       " 'these',\n",
       " 'they',\n",
       " 'this',\n",
       " 'those',\n",
       " 'through',\n",
       " 'to',\n",
       " 'too',\n",
       " 'under',\n",
       " 'until',\n",
       " 'up',\n",
       " 've',\n",
       " 'very',\n",
       " 'was',\n",
       " 'wasn',\n",
       " 'we',\n",
       " 'were',\n",
       " 'weren',\n",
       " 'what',\n",
       " 'when',\n",
       " 'where',\n",
       " 'which',\n",
       " 'while',\n",
       " 'who',\n",
       " 'whom',\n",
       " 'why',\n",
       " 'will',\n",
       " 'with',\n",
       " 'won',\n",
       " 'wouldn',\n",
       " 'y',\n",
       " 'you',\n",
       " 'your',\n",
       " 'yours',\n",
       " 'yourself',\n",
       " 'yourselves'}"
      ]
     },
     "execution_count": 70,
     "metadata": {},
     "output_type": "execute_result"
    }
   ],
   "source": [
    "set(stopwords.words('english'))"
   ]
  },
  {
   "cell_type": "code",
   "execution_count": 71,
   "metadata": {},
   "outputs": [],
   "source": [
    "stop_words = set(stopwords.words('english'))"
   ]
  },
  {
   "cell_type": "code",
   "execution_count": 76,
   "metadata": {},
   "outputs": [],
   "source": [
    "filter_text = [w for w in text if not w in stop_words ]"
   ]
  },
  {
   "cell_type": "code",
   "execution_count": 77,
   "metadata": {},
   "outputs": [
    {
     "data": {
      "text/plain": [
       "['The',\n",
       " 'Project',\n",
       " 'Gutenberg',\n",
       " 'EBook',\n",
       " 'The',\n",
       " 'Chronology',\n",
       " 'Ancient',\n",
       " 'Kingdoms',\n",
       " 'Amended',\n",
       " 'Isaac']"
      ]
     },
     "execution_count": 77,
     "metadata": {},
     "output_type": "execute_result"
    }
   ],
   "source": [
    "filter_text[:10]"
   ]
  },
  {
   "cell_type": "markdown",
   "metadata": {},
   "source": [
    "### Lists Reminders"
   ]
  },
  {
   "cell_type": "code",
   "execution_count": 50,
   "metadata": {},
   "outputs": [],
   "source": [
    "sent = ['Call', 'me', 'Ishmael', '.']"
   ]
  },
  {
   "cell_type": "code",
   "execution_count": 51,
   "metadata": {},
   "outputs": [
    {
     "data": {
      "text/plain": [
       "['Call', 'me', 'Ishmael', '.']"
      ]
     },
     "execution_count": 51,
     "metadata": {},
     "output_type": "execute_result"
    }
   ],
   "source": [
    "sent"
   ]
  },
  {
   "cell_type": "code",
   "execution_count": 52,
   "metadata": {},
   "outputs": [
    {
     "data": {
      "text/plain": [
       "'Call'"
      ]
     },
     "execution_count": 52,
     "metadata": {},
     "output_type": "execute_result"
    }
   ],
   "source": [
    "sent[0]"
   ]
  },
  {
   "cell_type": "code",
   "execution_count": 53,
   "metadata": {},
   "outputs": [],
   "source": [
    "sent.append('stever')"
   ]
  },
  {
   "cell_type": "code",
   "execution_count": 54,
   "metadata": {},
   "outputs": [
    {
     "data": {
      "text/plain": [
       "['Call', 'me', 'Ishmael', '.', 'stever']"
      ]
     },
     "execution_count": 54,
     "metadata": {},
     "output_type": "execute_result"
    }
   ],
   "source": [
    "sent"
   ]
  },
  {
   "cell_type": "code",
   "execution_count": 55,
   "metadata": {},
   "outputs": [
    {
     "data": {
      "text/plain": [
       "4"
      ]
     },
     "execution_count": 55,
     "metadata": {},
     "output_type": "execute_result"
    }
   ],
   "source": [
    "sent.index('stever')"
   ]
  },
  {
   "cell_type": "markdown",
   "metadata": {},
   "source": [
    "### `set` and tokenizing"
   ]
  },
  {
   "cell_type": "code",
   "execution_count": 56,
   "metadata": {},
   "outputs": [],
   "source": [
    "saying = ['After', 'all', 'is', 'said', 'and', 'done', 'more', 'is', 'said',\n",
    "         'than', 'done']"
   ]
  },
  {
   "cell_type": "code",
   "execution_count": 57,
   "metadata": {},
   "outputs": [],
   "source": [
    "tokens = set(saying)"
   ]
  },
  {
   "cell_type": "code",
   "execution_count": 58,
   "metadata": {},
   "outputs": [
    {
     "data": {
      "text/plain": [
       "{'After', 'all', 'and', 'done', 'is', 'more', 'said', 'than'}"
      ]
     },
     "execution_count": 58,
     "metadata": {},
     "output_type": "execute_result"
    }
   ],
   "source": [
    "tokens"
   ]
  },
  {
   "cell_type": "code",
   "execution_count": 59,
   "metadata": {},
   "outputs": [],
   "source": [
    "tokens = sorted(tokens)"
   ]
  },
  {
   "cell_type": "code",
   "execution_count": 61,
   "metadata": {},
   "outputs": [
    {
     "data": {
      "text/plain": [
       "['said', 'than']"
      ]
     },
     "execution_count": 61,
     "metadata": {},
     "output_type": "execute_result"
    }
   ],
   "source": [
    "tokens[-2:]"
   ]
  },
  {
   "cell_type": "code",
   "execution_count": 62,
   "metadata": {},
   "outputs": [],
   "source": [
    "long_words = [w for w in text if len(w)>15]"
   ]
  },
  {
   "cell_type": "code",
   "execution_count": 63,
   "metadata": {},
   "outputs": [
    {
     "data": {
      "text/plain": [
       "['www.gutenberg.net',\n",
       " '_Tiglathpilaser_',\n",
       " '_Misphragmuthosis_',\n",
       " '_Misphragmuthosis_',\n",
       " '_Misphragmuthosis_',\n",
       " '_Misphragmuthosis_',\n",
       " '_Tiglathpilasser_',\n",
       " '_Tiglathpilasser_',\n",
       " '_Tiglathpilasser_',\n",
       " '_Asserhadon-Pul_',\n",
       " '_Nebuchadnezzar_',\n",
       " '_Nebuchadnezzar_',\n",
       " '_Nebuchadnezzar_',\n",
       " '_Nebuchadnezzar_',\n",
       " '_Nebuchadnezzar_',\n",
       " '_Nebuchadnezzar_',\n",
       " 'Halicarnassensis_',\n",
       " 'Halicarnassensis_',\n",
       " 'illuminationibus',\n",
       " 'illuminationibus',\n",
       " 'illuminationibus',\n",
       " 'Halicarnassensis_',\n",
       " '_Misphragmuthosis_',\n",
       " '_Misphragmuthosis_',\n",
       " '_Misphragmuthosis_',\n",
       " '_Misphragmuthosis_',\n",
       " 'fire-worshippers',\n",
       " '_Mediterranean__',\n",
       " '_Misphragmuthosis_',\n",
       " '_Misphragmuthosis_',\n",
       " '_Misphragmuthosis_',\n",
       " '_Tiglath-pileser_',\n",
       " '_Mediterranean__',\n",
       " '_Misphragmuthosis_',\n",
       " '_Tiglath-pileser_',\n",
       " '_Nebuchadnezzar_',\n",
       " '_Nebuchadnezzar_',\n",
       " '_Misphragmuthosis_',\n",
       " '_Misphragmuthosis_',\n",
       " '_Tiglath-Pul-Assur_',\n",
       " '_Assur-Hadon-Pul_',\n",
       " '_Nebo-Adon-Assur_',\n",
       " '_Nebo-Pul-Assur_',\n",
       " '_Nebo-Chaddon-Assur_',\n",
       " '_Nebo-Assur-Adon_',\n",
       " '_Nergal-Shar-Assur_',\n",
       " '_Labo-Assur-dach_',\n",
       " '_Merodach-Empad_',\n",
       " '_Nebuchadnezzar_',\n",
       " '_Nebuchadnezzar_',\n",
       " '_Tiglath-pilesar_',\n",
       " '_Tiglath-pileser_',\n",
       " '_Tiglath-pileser_',\n",
       " '_Nebuchadnezzar_',\n",
       " '_Tiglath-pileser_',\n",
       " 'Ναβουχοδονοσορον',\n",
       " '_Nebuchadnezzar_',\n",
       " '_Nebuchadnezzar_',\n",
       " '_Tiglath-pileser_',\n",
       " '_Tiglath-pileser_',\n",
       " '_Tiglath-pileser_',\n",
       " '_Asserhadon-Pul_',\n",
       " '_Nabuchodonosor_',\n",
       " '__Nabuchodonosor_',\n",
       " '_Nabuchodonosor_',\n",
       " '_Nabuchodonosor_',\n",
       " '_Nabuchodonosor_',\n",
       " '_Nabuchodonosor_',\n",
       " '_Nebuchadnezzar_',\n",
       " '_Nebuchadnezzar_',\n",
       " '_Nebuchadnezzar_',\n",
       " '_Asserhadon-Pul_',\n",
       " '_Nebuchadnezzar_',\n",
       " '_Nebuchadnezzar_',\n",
       " '_Nebuchadnezzar_',\n",
       " '_Nebuchadnezzar_',\n",
       " '_Nebuchadnezzar_',\n",
       " '_Nebuchadnezzar_',\n",
       " '_Nebuchadnezzar_',\n",
       " '_Nebuchadnezzar_',\n",
       " '_Nebuchadnezzar_',\n",
       " '_Nebuchadnezzar_',\n",
       " '_Nebuchadnezzar_',\n",
       " '_Nebuchadnezzar_',\n",
       " '_Nebuchadnezzar_',\n",
       " '_Nebuchadnezzar_',\n",
       " '_Nebuchadnezzar_',\n",
       " '_Nebuchadnezzar_',\n",
       " '_Nebuchadnezzar_',\n",
       " '_Nebuchadnezzar_',\n",
       " '_Nebuchadnezzar_',\n",
       " '_Nebuchadnezzar_',\n",
       " '_Nebuchadnezzar_',\n",
       " '_Nebuchadnezzar_',\n",
       " '_Nebuchadnezzar_',\n",
       " '_Nebuchadnezzar_',\n",
       " '_Nebuchadnezzar_',\n",
       " '_Nebuchadnezzar_',\n",
       " '_Nebuchadnezzar_',\n",
       " '_Nebuchadnezzar_',\n",
       " '_Nebuchadnezzar_',\n",
       " '_Nebuchadnezzar_',\n",
       " '_Nebuchadnezzar_',\n",
       " '_Nebuchadnezzar_',\n",
       " '_Nebuchadnezzar_',\n",
       " '_Nebuchadnezzar_',\n",
       " '_Nebuchadnezzar_',\n",
       " '_Nebuchadnezzar_',\n",
       " '_Nebuchadnezzar_',\n",
       " '_Nebuchadnezzar_',\n",
       " '_Nebuchadnezzar_',\n",
       " '_Nebuchadnezzar_',\n",
       " '_Nebuchadnezzar_',\n",
       " '_Nebuchadnezzar_',\n",
       " '_Nebuchadnezzar_',\n",
       " '_Nebuchadnezzar_',\n",
       " '_Nebuchadnezzar_',\n",
       " '_Nebuchadnezzar_',\n",
       " '_Nebuchadnezzar_',\n",
       " 'Under-Treasurers',\n",
       " 'treasure-chambers',\n",
       " 'treasure-chambers',\n",
       " 'treasure-chambers',\n",
       " '_Nebuchadnezzar_',\n",
       " 'treasure-chambers',\n",
       " 'Treasure-Chambers',\n",
       " 'incorruptissimum',\n",
       " 'prognostications',\n",
       " '_Nebuchadnezzar_',\n",
       " '_Nebuchadnezzar_',\n",
       " '_Nebuchadnezzar_',\n",
       " '_Nebuchadnezzar_',\n",
       " '_Ecclesiasticus_',\n",
       " '_Nebuchadnezzar_',\n",
       " '_Nebuchadnezzar_',\n",
       " 'fire-worshippers',\n",
       " '_Nebuchadnezzar_',\n",
       " 'Lieutenant-General',\n",
       " '//www.gutenberg.org/1/5/7/8/15784/',\n",
       " '//gutenberg.net/license',\n",
       " 'trademark/copyright',\n",
       " 'www.gutenberg.net',\n",
       " 'www.gutenberg.net',\n",
       " 'unenforceability',\n",
       " '//pglaf.org/fundraising',\n",
       " '//pglaf.org/donate',\n",
       " '//www.gutenberg.net']"
      ]
     },
     "execution_count": 63,
     "metadata": {},
     "output_type": "execute_result"
    }
   ],
   "source": [
    "long_words"
   ]
  },
  {
   "cell_type": "code",
   "execution_count": 66,
   "metadata": {},
   "outputs": [
    {
     "data": {
      "text/plain": [
       "[('more', 'is'), ('is', 'said'), ('said', 'than'), ('than', 'done')]"
      ]
     },
     "execution_count": 66,
     "metadata": {},
     "output_type": "execute_result"
    }
   ],
   "source": [
    "list(nltk.bigrams(['more', 'is', 'said', 'than', 'done']))"
   ]
  },
  {
   "cell_type": "code",
   "execution_count": 67,
   "metadata": {},
   "outputs": [
    {
     "name": "stdout",
     "output_type": "stream",
     "text": [
      "Project Gutenberg-tm; _Red Sea_; _Anno Nabonass._; hundred years;\n",
      "Project Gutenberg; years a-piece; _Argonautic_ expedition; _Trojan_\n",
      "war; _Darius Hystaspis_; _Argonautic_ Expedition; _Assyrian_ Empire;\n",
      "Literary Archive; _Darius Nothus_; Gutenberg-tm electronic; lower\n",
      "_Egypt_; Archive Foundation; electronic works; Gutenberg Literary;\n",
      "_Peloponnesian_ war; _Jupiter Ammon_\n"
     ]
    }
   ],
   "source": [
    "text.collocations()"
   ]
  },
  {
   "cell_type": "code",
   "execution_count": 68,
   "metadata": {},
   "outputs": [
    {
     "data": {
      "text/plain": [
       "['austen-emma.txt',\n",
       " 'austen-persuasion.txt',\n",
       " 'austen-sense.txt',\n",
       " 'bible-kjv.txt',\n",
       " 'blake-poems.txt',\n",
       " 'bryant-stories.txt',\n",
       " 'burgess-busterbrown.txt',\n",
       " 'carroll-alice.txt',\n",
       " 'chesterton-ball.txt',\n",
       " 'chesterton-brown.txt',\n",
       " 'chesterton-thursday.txt',\n",
       " 'edgeworth-parents.txt',\n",
       " 'melville-moby_dick.txt',\n",
       " 'milton-paradise.txt',\n",
       " 'shakespeare-caesar.txt',\n",
       " 'shakespeare-hamlet.txt',\n",
       " 'shakespeare-macbeth.txt',\n",
       " 'whitman-leaves.txt']"
      ]
     },
     "execution_count": 68,
     "metadata": {},
     "output_type": "execute_result"
    }
   ],
   "source": [
    "nltk.corpus.gutenberg.fileids()"
   ]
  },
  {
   "cell_type": "markdown",
   "metadata": {},
   "source": [
    "### Task\n",
    "\n",
    "1. Scrape and tokenize a text from project Gutenberg.\n",
    "\n",
    "2. Compare the most frequent occurring words with and without stopwords removed.\n",
    "\n",
    "3. Compare the top bigrams and trigrams for a second book.\n",
    "\n",
    "**Further Reading**:  http://www.nltk.org/book/"
   ]
  }
 ],
 "metadata": {
  "kernelspec": {
   "display_name": "Python 3",
   "language": "python",
   "name": "python3"
  },
  "language_info": {
   "codemirror_mode": {
    "name": "ipython",
    "version": 3
   },
   "file_extension": ".py",
   "mimetype": "text/x-python",
   "name": "python",
   "nbconvert_exporter": "python",
   "pygments_lexer": "ipython3",
   "version": "3.6.3"
  }
 },
 "nbformat": 4,
 "nbformat_minor": 2
}
